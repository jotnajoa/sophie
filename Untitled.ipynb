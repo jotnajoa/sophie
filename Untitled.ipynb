{
 "cells": [
  {
   "cell_type": "code",
   "execution_count": 4,
   "id": "2ec2cb68",
   "metadata": {},
   "outputs": [],
   "source": [
    "import pandas as pd\n",
    "\n",
    "# Load the CSV file with semicolon delimiter\n",
    "df = pd.read_csv('Profile of Body Metrics and Fashion Colors.csv', sep=';')\n",
    "\n",
    "# Round the Height(Centimeter) and Weight(Kilograms) columns to 2 decimal places\n",
    "df['Height(Centimeter)'] = df['Height(Centimeter)'].round(2)\n",
    "df['Weight(Kilograms)'] = df['Weight(Kilograms)'].round(2)\n",
    "\n",
    "# Convert the color columns to a more JavaScript-friendly format\n",
    "df['Skin Color'] = df['Skin Color'].apply(lambda x: '{' + ', '.join(f'\"{key}\": {val}' for key, val in zip(['r', 'g', 'b'], map(int, x.strip('()').split(', ')))) + '}')\n",
    "df['Clothes Color'] = df['Clothes Color'].apply(lambda x: '{' + ', '.join(f'\"{key}\": {val}' for key, val in zip(['r', 'g', 'b'], map(int, x.strip('()').split(', ')))) + '}')\n",
    "df['Pants Color'] = df['Pants Color'].apply(lambda x: '{' + ', '.join(f'\"{key}\": {val}' for key, val in zip(['r', 'g', 'b'], map(int, x.strip('()').split(', ')))) + '}')\n",
    "\n",
    "# Export the modified DataFrame to a new CSV file with comma delimiter\n",
    "df.to_csv('modified_Profile_of_Body_Metrics_and_Fashion_Colors.csv', index=False)"
   ]
  },
  {
   "cell_type": "code",
   "execution_count": null,
   "id": "c03ba784",
   "metadata": {},
   "outputs": [],
   "source": []
  }
 ],
 "metadata": {
  "kernelspec": {
   "display_name": "Python 3 (ipykernel)",
   "language": "python",
   "name": "python3"
  },
  "language_info": {
   "codemirror_mode": {
    "name": "ipython",
    "version": 3
   },
   "file_extension": ".py",
   "mimetype": "text/x-python",
   "name": "python",
   "nbconvert_exporter": "python",
   "pygments_lexer": "ipython3",
   "version": "3.11.5"
  }
 },
 "nbformat": 4,
 "nbformat_minor": 5
}
